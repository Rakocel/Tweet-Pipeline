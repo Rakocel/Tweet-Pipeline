{
 "cells": [
  {
   "cell_type": "markdown",
   "metadata": {},
   "source": [
    "# **Project: Sentiment Analysis**\n",
    "+ build a data pippeline that collect tweets and stores them in a database (MongoDB - noSQL) per streaming. Next, the sentiment of tweets is analyzed and the annotated tweets are stored in a second (postgreSQL - SQL)database. \n",
    "+ These different actio were initiated within a Docker container. \n",
    "+ As for the Twitter API the authentication keys need to be added in a 'config.txt' file in the subfolder 'tweet_collector' or directly inserted into the 'get_tweets.py' file\n",
    "+ To make this project run, it is neccesary to have Docker installed. As a next step the docker-compose-yml file needs to be run. "
   ]
  }
 ],
 "metadata": {
  "kernelspec": {
   "display_name": "Python 3",
   "language": "python",
   "name": "python3"
  },
  "language_info": {
   "codemirror_mode": {
    "name": "ipython",
    "version": 3
   },
   "file_extension": ".py",
   "mimetype": "text/x-python",
   "name": "python",
   "nbconvert_exporter": "python",
   "pygments_lexer": "ipython3",
   "version": "3.8.5"
  }
 },
 "nbformat": 4,
 "nbformat_minor": 4
}
